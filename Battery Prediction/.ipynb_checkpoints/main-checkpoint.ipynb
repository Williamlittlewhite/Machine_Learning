{
 "cells": [
  {
   "cell_type": "markdown",
   "metadata": {},
   "source": [
    "# 0.赛题链接\n",
    "\n",
    "锂离子电池生产参数调控及生产温度预测挑战赛：\n",
    "\n",
    "\n",
    ">  [报名点这里](https://challenge.xfyun.cn/topic/info?type=lithium-ion-battery&ch=ymfk4uU)\n",
    "  \n",
    "\n",
    "本项目在普通CPU环境所需时长大概50分钟,V100 32G环境大概38分钟,A100环境大概10分钟"
   ]
  },
  {
   "cell_type": "markdown",
   "metadata": {},
   "source": [
    "# 1. 赛事报名\n",
    "1. 点击报名参赛，登录讯飞开放平台。（注意勾选自动注册）\n",
    "\n",
    "<img src=\"https://ai-studio-static-online.cdn.bcebos.com/32ee2ae3384b45a2a63311fe2acc628fbf4ec9c14f6942679455e8fbc6f7faac\" width=\"75%\" />\n",
    "\n",
    "<img src=\"https://ai-studio-static-online.cdn.bcebos.com/0473562fa8984c7c81014c0ffb7474f4a4e1b65c40f9493cb03c1d842d317572\" width=\"75%\" />\n",
    "\n",
    "2. 看到恭喜！您已成功报名的提示后，表明报名完成。\n",
    "\n",
    "<img src=\"https://ai-studio-static-online.cdn.bcebos.com/41d19a29f0d241eb8325a95d49116fc1caacec49fcb34dc5996efa968f521c9b\" width=\"75%\" />\n",
    "\n",
    "<img src=\"https://ai-studio-static-online.cdn.bcebos.com/7d4bb7ad707342b1af7924aba9fc781a81edac3438c94c8cb2784a0e7ab3dabc\" width=\"75%\" />\n",
    "\n",
    "3. 基线运行后得出的结果可以在提交结果这里提交, 快来运行试试吧~\n",
    "\n",
    "<img src=\"https://ai-studio-static-online.cdn.bcebos.com/28b50d1b6fa248ca9c8f057778cffa8deba01694e1d54de4a0b47e97a902800c\" width=\"75%\" />\n",
    "\n",
    "<img src=\"https://ai-studio-static-online.cdn.bcebos.com/fb50886e63a14c90ba97787e3ff79845013fc2675643451dae472b01677b5c15\" width=\"75%\" />\n"
   ]
  },
  {
   "cell_type": "markdown",
   "metadata": {},
   "source": [
    "# 2. 赛题介绍\n",
    "\n",
    "## 2.1 任务要求\n",
    "\n",
    "- 初赛任务：初赛提供了电炉17个温区的实际生产数据，分别是电炉上部17组加热棒设定温度T1-1 ~ T1-17，电炉下部17组加热棒设定温度T2-1~T2-17，底部17组进气口的设定进气流量V1-V17，选手需要根据提供的数据样本构建模型，预测电炉上下部空间17个测温点的测量温度值。\n",
    "\n",
    "## 2.2 数据集介绍\n",
    "\n",
    "- 初赛任务：初赛提供了电炉17个温区的实际生产数据，分别是电炉上部17组加热棒设定温度T1-1 ~ T1-17，电炉下部17组加热棒设定温度T2-1~T2-17，底部17组进气口的设定进气流量V1-V17，选手需要根据提供的数据样本构建模型，预测电炉上下部空间17个测温点的测量温度值。\n",
    "\n",
    "## 2.3 评估指标\n",
    "\n",
    "- 初赛考核办法采用测试集各行数据的加热棒上部温度设定值、加热棒下部温度设定值、进气流量3类数据作为输入，选手分别预测上部空间测量温度、下部空间测量温度。将选手预测的上部空间测量温度、下部空间测量温度与测试集数据的测量值进行比较。采用MAE平均绝对误差作为评价指标。\n"
   ]
  },
  {
   "cell_type": "markdown",
   "metadata": {},
   "source": [
    "# 3. 赛题分析\n",
    "\n",
    "本次比赛为数据挖掘类型的比赛，聚焦于工业场景。本赛题实质上为回归任务，其中会涉及到时序预测相关的知识。\n",
    "\n",
    "通过电炉空间温度推测产品内部温度，设计烧结过程的温度场和浓度场的最优控制律：\n",
    "- 任务输入：电炉对应17个温区的实际生产数据，分别是电炉上部17组加热棒设定温度T1-1 ~ T1-17，电炉下部17组加热棒设定温度T2-1~T2-17，底部17组进气口的设定进气流量V1-V17；\n",
    "- 任务输出：电炉对应17个温区上部空间和下部空间17个测温点的测量温度值。\n",
    "\n",
    "值得注意的是预测目标为**34**个，所以需要我们进行34次模型训练和预测。\n",
    "\n",
    "同时数据规模比较小，可以快速处理数据和搭建模型，对于机器要求8g内存即可。\n",
    "\n",
    "本次为结构化赛题，包含电炉烧结每个时间段的流量、上下部设定温度，以及预测目标上下部测量温度值。\n"
   ]
  },
  {
   "cell_type": "markdown",
   "metadata": {},
   "source": [
    "# 4. 基于LightGBM模型\n",
    "\n",
    "在处理这个问题时，我们主要考虑的是回归预测。一种常规的解决思路是运用机器学习技术，例如 LightGBM 或 XGBoost，或者借助深度学习方法进行实践。当我们选择自行搭建模型的路径时，我们将面临更为复杂的挑战，包括构建模型结构以及对数值数据进行标准化处理。\n",
    "\n",
    "然而，一个简易的解决方案可能就在我们眼前，那就是直接使用现成的机器学习模型。这种方法具有明显的优势，其模型使用简单，数据预处理的需求也大大减少。\n",
    "\n",
    "总的来说，我们需要经过以下步骤来解决本问题：\n",
    "\n",
    "- 数据预处理\n",
    "- 切分训练集与验证集\n",
    "- 训练模型\n",
    "- 生成最后的预测结果。\n",
    "\n",
    "\n",
    "在实施这些步骤的过程中，我们需要根据模型的性质和数据的特点灵活调整，确保每一步的实施都能最大化模型的预测准确性，从而有效解决这个回归预测问题。"
   ]
  },
  {
   "cell_type": "code",
   "execution_count": 2,
   "metadata": {
    "execution": {
     "iopub.execute_input": "2023-07-23T12:41:08.775075Z",
     "iopub.status.busy": "2023-07-23T12:41:08.774602Z",
     "iopub.status.idle": "2023-07-23T12:41:11.104580Z",
     "shell.execute_reply": "2023-07-23T12:41:11.103654Z",
     "shell.execute_reply.started": "2023-07-23T12:41:08.775046Z"
    },
    "jupyter": {
     "outputs_hidden": false
    },
    "scrolled": true,
    "tags": []
   },
   "outputs": [
    {
     "name": "stdout",
     "output_type": "stream",
     "text": [
      "Looking in indexes: https://mirrors.cernet.edu.cn/pypi/web/simple\n",
      "Requirement already satisfied: lightgbm in e:\\anaconda3\\envs\\datawhale\\lib\\site-packages (3.3.5)\n",
      "Requirement already satisfied: wheel in e:\\anaconda3\\envs\\datawhale\\lib\\site-packages (from lightgbm) (0.38.4)\n",
      "Requirement already satisfied: numpy in e:\\anaconda3\\envs\\datawhale\\lib\\site-packages (from lightgbm) (1.24.3)\n",
      "Requirement already satisfied: scipy in e:\\anaconda3\\envs\\datawhale\\lib\\site-packages (from lightgbm) (1.10.1)\n",
      "Requirement already satisfied: scikit-learn!=0.22.0 in e:\\anaconda3\\envs\\datawhale\\lib\\site-packages (from lightgbm) (1.2.2)\n",
      "Requirement already satisfied: joblib>=1.1.1 in e:\\anaconda3\\envs\\datawhale\\lib\\site-packages (from scikit-learn!=0.22.0->lightgbm) (1.2.0)\n",
      "Requirement already satisfied: threadpoolctl>=2.0.0 in e:\\anaconda3\\envs\\datawhale\\lib\\site-packages (from scikit-learn!=0.22.0->lightgbm) (3.1.0)\n",
      "Archive:  data/data227148/data.zip\n",
      "  inflating: data/test.csv           \n",
      "  inflating: data/train.csv          \n"
     ]
    }
   ],
   "source": [
    "# 更新lightGBM库&解压缩数据\n",
    "# 注: 只需运行该行一次，若后续想要run all, 需要注释掉 !unzip data/data227148/data.zip, python的注释符号为 #\n",
    "!pip install -U lightgbm\n",
    "!unzip data/data227148/data.zip"
   ]
  },
  {
   "cell_type": "code",
   "execution_count": 2,
   "metadata": {
    "execution": {
     "iopub.execute_input": "2023-07-23T12:41:13.607431Z",
     "iopub.status.busy": "2023-07-23T12:41:13.606994Z",
     "iopub.status.idle": "2023-07-23T12:41:14.602121Z",
     "shell.execute_reply": "2023-07-23T12:41:14.601441Z",
     "shell.execute_reply.started": "2023-07-23T12:41:13.607404Z"
    },
    "scrolled": true,
    "tags": []
   },
   "outputs": [],
   "source": [
    "# 导入所需要的库\n",
    "import pandas as pd # 用于处理数据的工具\n",
    "import lightgbm as lgb # 机器学习模型 LightGBM\n",
    "from sklearn.metrics import mean_absolute_error # 评分 MAE 的计算函数\n",
    "from sklearn.model_selection import train_test_split # 拆分训练集与验证集工具\n",
    "from tqdm import tqdm # 显示循环的进度条工具\n",
    "import warnings\n",
    "warnings.filterwarnings(\"ignore\")"
   ]
  },
  {
   "cell_type": "code",
   "execution_count": 4,
   "metadata": {
    "execution": {
     "iopub.execute_input": "2023-07-19T10:57:09.984036Z",
     "iopub.status.busy": "2023-07-19T10:57:09.983615Z",
     "iopub.status.idle": "2023-07-19T10:57:10.249437Z",
     "shell.execute_reply": "2023-07-19T10:57:10.248695Z",
     "shell.execute_reply.started": "2023-07-19T10:57:09.984013Z"
    },
    "scrolled": true,
    "tags": []
   },
   "outputs": [],
   "source": [
    "# 数据准备\n",
    "train_dataset = pd.read_csv(\"./data/train.csv\") # 原始训练数据。\n",
    "test_dataset = pd.read_csv(\"./data/test.csv\") # 原始测试数据（用于提交）。\n",
    "\n",
    "submit = pd.DataFrame() # 定义提交的最终数据。\n",
    "submit[\"序号\"] = test_dataset[\"序号\"] # 对齐测试数据的序号。\n",
    "\n",
    "MAE_scores = dict() # 定义评分项。"
   ]
  },
  {
   "cell_type": "code",
   "execution_count": 5,
   "metadata": {
    "execution": {
     "iopub.execute_input": "2023-07-19T10:57:10.250903Z",
     "iopub.status.busy": "2023-07-19T10:57:10.250533Z",
     "iopub.status.idle": "2023-07-19T10:57:10.279045Z",
     "shell.execute_reply": "2023-07-19T10:57:10.278411Z",
     "shell.execute_reply.started": "2023-07-19T10:57:10.250883Z"
    },
    "scrolled": true,
    "tags": []
   },
   "outputs": [],
   "source": [
    "# 参数设置\n",
    "pred_labels = list(train_dataset.columns[-34:]) # 需要预测的标签。\n",
    "train_set, valid_set = train_test_split(train_dataset, test_size=0.2) # 拆分数据集。\n",
    "\n",
    "# 设定 LightGBM 训练参，查阅参数意义：https://lightgbm.readthedocs.io/en/latest/Parameters.html\n",
    "lgb_params = {\n",
    "        'boosting_type': 'gbdt',\n",
    "        'objective': 'regression',\n",
    "        'metric': 'mae',\n",
    "        'min_child_weight': 5,\n",
    "        'num_leaves': 2 ** 5,\n",
    "        'lambda_l2': 10,\n",
    "        'feature_fraction': 0.8,\n",
    "        'bagging_fraction': 0.8,\n",
    "        'bagging_freq': 4,\n",
    "        'learning_rate': 0.05,\n",
    "        'seed': 2023,\n",
    "        'nthread' : 16,\n",
    "        'verbose' : -1,\n",
    "    }\n",
    "\n",
    "no_info = lgb.callback.log_evaluation(period=-1) # 禁用训练日志输出。"
   ]
  },
  {
   "cell_type": "code",
   "execution_count": 6,
   "metadata": {
    "execution": {
     "iopub.execute_input": "2023-07-19T10:57:10.420270Z",
     "iopub.status.busy": "2023-07-19T10:57:10.420077Z",
     "iopub.status.idle": "2023-07-19T10:57:10.467164Z",
     "shell.execute_reply": "2023-07-19T10:57:10.466565Z",
     "shell.execute_reply.started": "2023-07-19T10:57:10.420254Z"
    },
    "scrolled": true,
    "tags": []
   },
   "outputs": [
    {
     "data": {
      "text/html": [
       "<div>\n",
       "<style scoped>\n",
       "    .dataframe tbody tr th:only-of-type {\n",
       "        vertical-align: middle;\n",
       "    }\n",
       "\n",
       "    .dataframe tbody tr th {\n",
       "        vertical-align: top;\n",
       "    }\n",
       "\n",
       "    .dataframe thead th {\n",
       "        text-align: right;\n",
       "    }\n",
       "</style>\n",
       "<table border=\"1\" class=\"dataframe\">\n",
       "  <thead>\n",
       "    <tr style=\"text-align: right;\">\n",
       "      <th></th>\n",
       "      <th>流量1</th>\n",
       "      <th>流量2</th>\n",
       "      <th>流量3</th>\n",
       "      <th>流量4</th>\n",
       "      <th>流量5</th>\n",
       "      <th>流量6</th>\n",
       "      <th>流量7</th>\n",
       "      <th>流量8</th>\n",
       "      <th>流量9</th>\n",
       "      <th>流量10</th>\n",
       "      <th>...</th>\n",
       "      <th>下部温度设定16</th>\n",
       "      <th>下部温度设定17</th>\n",
       "      <th>month</th>\n",
       "      <th>day</th>\n",
       "      <th>hour</th>\n",
       "      <th>minute</th>\n",
       "      <th>weekofyear</th>\n",
       "      <th>dayofyear</th>\n",
       "      <th>dayofweek</th>\n",
       "      <th>is_weekend</th>\n",
       "    </tr>\n",
       "  </thead>\n",
       "  <tbody>\n",
       "    <tr>\n",
       "      <th>0</th>\n",
       "      <td>24.222000</td>\n",
       "      <td>24.070000</td>\n",
       "      <td>28.889000</td>\n",
       "      <td>25.264999</td>\n",
       "      <td>26.827999</td>\n",
       "      <td>4.354</td>\n",
       "      <td>21.784</td>\n",
       "      <td>24.323000</td>\n",
       "      <td>16.721001</td>\n",
       "      <td>18.652000</td>\n",
       "      <td>...</td>\n",
       "      <td>837</td>\n",
       "      <td>750</td>\n",
       "      <td>3</td>\n",
       "      <td>1</td>\n",
       "      <td>4</td>\n",
       "      <td>15</td>\n",
       "      <td>9</td>\n",
       "      <td>60</td>\n",
       "      <td>2</td>\n",
       "      <td>0</td>\n",
       "    </tr>\n",
       "    <tr>\n",
       "      <th>1</th>\n",
       "      <td>24.138000</td>\n",
       "      <td>23.974001</td>\n",
       "      <td>28.798000</td>\n",
       "      <td>25.517000</td>\n",
       "      <td>27.108999</td>\n",
       "      <td>4.377</td>\n",
       "      <td>21.886</td>\n",
       "      <td>24.384001</td>\n",
       "      <td>16.709999</td>\n",
       "      <td>18.600000</td>\n",
       "      <td>...</td>\n",
       "      <td>837</td>\n",
       "      <td>750</td>\n",
       "      <td>3</td>\n",
       "      <td>1</td>\n",
       "      <td>4</td>\n",
       "      <td>20</td>\n",
       "      <td>9</td>\n",
       "      <td>60</td>\n",
       "      <td>2</td>\n",
       "      <td>0</td>\n",
       "    </tr>\n",
       "    <tr>\n",
       "      <th>2</th>\n",
       "      <td>24.152000</td>\n",
       "      <td>24.006001</td>\n",
       "      <td>28.827999</td>\n",
       "      <td>25.114000</td>\n",
       "      <td>26.719999</td>\n",
       "      <td>4.293</td>\n",
       "      <td>21.611</td>\n",
       "      <td>24.099001</td>\n",
       "      <td>16.591999</td>\n",
       "      <td>18.471001</td>\n",
       "      <td>...</td>\n",
       "      <td>837</td>\n",
       "      <td>750</td>\n",
       "      <td>3</td>\n",
       "      <td>1</td>\n",
       "      <td>4</td>\n",
       "      <td>26</td>\n",
       "      <td>9</td>\n",
       "      <td>60</td>\n",
       "      <td>2</td>\n",
       "      <td>0</td>\n",
       "    </tr>\n",
       "    <tr>\n",
       "      <th>3</th>\n",
       "      <td>24.108999</td>\n",
       "      <td>23.974001</td>\n",
       "      <td>28.783001</td>\n",
       "      <td>25.114000</td>\n",
       "      <td>27.047001</td>\n",
       "      <td>4.354</td>\n",
       "      <td>21.857</td>\n",
       "      <td>24.337999</td>\n",
       "      <td>16.677999</td>\n",
       "      <td>18.561001</td>\n",
       "      <td>...</td>\n",
       "      <td>837</td>\n",
       "      <td>750</td>\n",
       "      <td>3</td>\n",
       "      <td>1</td>\n",
       "      <td>4</td>\n",
       "      <td>31</td>\n",
       "      <td>9</td>\n",
       "      <td>60</td>\n",
       "      <td>2</td>\n",
       "      <td>0</td>\n",
       "    </tr>\n",
       "    <tr>\n",
       "      <th>4</th>\n",
       "      <td>24.350000</td>\n",
       "      <td>24.215000</td>\n",
       "      <td>29.146999</td>\n",
       "      <td>25.416000</td>\n",
       "      <td>25.416000</td>\n",
       "      <td>4.377</td>\n",
       "      <td>21.900</td>\n",
       "      <td>24.444000</td>\n",
       "      <td>16.775999</td>\n",
       "      <td>18.704000</td>\n",
       "      <td>...</td>\n",
       "      <td>837</td>\n",
       "      <td>750</td>\n",
       "      <td>3</td>\n",
       "      <td>1</td>\n",
       "      <td>4</td>\n",
       "      <td>36</td>\n",
       "      <td>9</td>\n",
       "      <td>60</td>\n",
       "      <td>2</td>\n",
       "      <td>0</td>\n",
       "    </tr>\n",
       "  </tbody>\n",
       "</table>\n",
       "<p>5 rows × 59 columns</p>\n",
       "</div>"
      ],
      "text/plain": [
       "         流量1        流量2        流量3        流量4        流量5    流量6     流量7  \\\n",
       "0  24.222000  24.070000  28.889000  25.264999  26.827999  4.354  21.784   \n",
       "1  24.138000  23.974001  28.798000  25.517000  27.108999  4.377  21.886   \n",
       "2  24.152000  24.006001  28.827999  25.114000  26.719999  4.293  21.611   \n",
       "3  24.108999  23.974001  28.783001  25.114000  27.047001  4.354  21.857   \n",
       "4  24.350000  24.215000  29.146999  25.416000  25.416000  4.377  21.900   \n",
       "\n",
       "         流量8        流量9       流量10  ...  下部温度设定16  下部温度设定17  month  day  hour  \\\n",
       "0  24.323000  16.721001  18.652000  ...       837       750      3    1     4   \n",
       "1  24.384001  16.709999  18.600000  ...       837       750      3    1     4   \n",
       "2  24.099001  16.591999  18.471001  ...       837       750      3    1     4   \n",
       "3  24.337999  16.677999  18.561001  ...       837       750      3    1     4   \n",
       "4  24.444000  16.775999  18.704000  ...       837       750      3    1     4   \n",
       "\n",
       "   minute  weekofyear  dayofyear  dayofweek  is_weekend  \n",
       "0      15           9         60          2           0  \n",
       "1      20           9         60          2           0  \n",
       "2      26           9         60          2           0  \n",
       "3      31           9         60          2           0  \n",
       "4      36           9         60          2           0  \n",
       "\n",
       "[5 rows x 59 columns]"
      ]
     },
     "execution_count": 6,
     "metadata": {},
     "output_type": "execute_result"
    }
   ],
   "source": [
    "# 时间特征函数\n",
    "def time_feature(data: pd.DataFrame, pred_labels: list=None) -> pd.DataFrame:\n",
    "    \"\"\"提取数据中的时间特征。\n",
    "\n",
    "    输入: \n",
    "        data: Pandas.DataFrame\n",
    "            需要提取时间特征的数据。\n",
    "\n",
    "        pred_labels: list, 默认值: None\n",
    "            需要预测的标签的列表。如果是测试集，不需要填入。\n",
    "    \n",
    "    输出: data: Pandas.DataFrame\n",
    "            提取时间特征后的数据。\n",
    "    \"\"\"\n",
    "    \n",
    "    data = data.copy() # 复制数据，避免后续影响原始数据。\n",
    "    data = data.drop(columns=[\"序号\"]) # 去掉”序号“特征。\n",
    "    \n",
    "    data[\"时间\"] = pd.to_datetime(data[\"时间\"]) # 将”时间“特征的文本内容转换为 Pandas 可处理的格式。\n",
    "    data[\"month\"] = data[\"时间\"].dt.month # 添加新特征“month”，代表”当前月份“。\n",
    "    data[\"day\"] = data[\"时间\"].dt.day # 添加新特征“day”，代表”当前日期“。\n",
    "    data[\"hour\"] = data[\"时间\"].dt.hour # 添加新特征“hour”，代表”当前小时“。\n",
    "    data[\"minute\"] = data[\"时间\"].dt.minute # 添加新特征“minute”，代表”当前分钟“。\n",
    "    data[\"weekofyear\"] = data[\"时间\"].dt.isocalendar().week.astype(int) # 添加新特征“weekofyear”，代表”当年第几周“，并转换成 int，否则 LightGBM 无法处理。\n",
    "    data[\"dayofyear\"] = data[\"时间\"].dt.dayofyear # 添加新特征“dayofyear”，代表”当年第几日“。\n",
    "    data[\"dayofweek\"] = data[\"时间\"].dt.dayofweek # 添加新特征“dayofweek”，代表”当周第几日“。\n",
    "    data[\"is_weekend\"] = data[\"时间\"].dt.dayofweek // 6 # 添加新特征“is_weekend”，代表”是否是周末“，1 代表是周末，0 代表不是周末。\n",
    "\n",
    "    data = data.drop(columns=[\"时间\"]) # LightGBM 无法处理这个特征，它已体现在其他特征中，故丢弃。\n",
    "\n",
    "    if pred_labels: # 如果提供了 pred_labels 参数，则执行该代码块。\n",
    "        data = data.drop(columns=[*pred_labels]) # 去掉所有待预测的标签。\n",
    "    \n",
    "    return data # 返回最后处理的数据。\n",
    "\n",
    "test_features = time_feature(test_dataset) # 处理测试集的时间特征，无需 pred_labels。\n",
    "test_features.head(5)"
   ]
  },
  {
   "cell_type": "code",
   "execution_count": 7,
   "metadata": {
    "execution": {
     "iopub.execute_input": "2023-07-19T10:57:10.468363Z",
     "iopub.status.busy": "2023-07-19T10:57:10.468174Z",
     "iopub.status.idle": "2023-07-19T11:07:11.855932Z",
     "shell.execute_reply": "2023-07-19T11:07:11.855207Z",
     "shell.execute_reply.started": "2023-07-19T10:57:10.468347Z"
    },
    "scrolled": true,
    "tags": []
   },
   "outputs": [
    {
     "name": "stderr",
     "output_type": "stream",
     "text": [
      "100%|██████████| 34/34 [10:00<00:00, 17.67s/it]\r\n"
     ]
    }
   ],
   "source": [
    "# 从所有待预测特征中依次取出标签进行训练与预测。\n",
    "for pred_label in tqdm(pred_labels):\n",
    "    # print(\"当前的pred_label是：\", pred_label)\n",
    "    train_features = time_feature(train_set, pred_labels=pred_labels) # 处理训练集的时间特征。\n",
    "    # train_features = enhancement(train_features_raw)\n",
    "    train_labels = train_set[pred_label] # 训练集的标签数据。\n",
    "    # print(\"当前的train_labels是：\", train_labels)\n",
    "    train_data = lgb.Dataset(train_features, label=train_labels) # 将训练集转换为 LightGBM 可处理的类型。\n",
    "\n",
    "    valid_features = time_feature(valid_set, pred_labels=pred_labels) # 处理验证集的时间特征。\n",
    "    # valid_features = enhancement(valid_features_raw)\n",
    "    valid_labels = valid_set[pred_label] # 验证集的标签数据。\n",
    "    # print(\"当前的valid_labels是：\", valid_labels)\n",
    "    valid_data = lgb.Dataset(valid_features, label=valid_labels) # 将验证集转换为 LightGBM 可处理的类型。\n",
    "\n",
    "    # 训练模型，参数依次为：导入模型设定参数、导入训练集、设定模型迭代次数（200）、导入验证集、禁止输出日志\n",
    "    model = lgb.train(lgb_params, train_data, 200, valid_sets=valid_data, callbacks=[no_info])\n",
    "\n",
    "    valid_pred = model.predict(valid_features, num_iteration=model.best_iteration) # 选择效果最好的模型进行验证集预测。\n",
    "    test_pred = model.predict(test_features, num_iteration=model.best_iteration) # 选择效果最好的模型进行测试集预测。\n",
    "    MAE_score = mean_absolute_error(valid_pred, valid_labels) # 计算验证集预测数据与真实数据的 MAE。\n",
    "    MAE_scores[pred_label] = MAE_score # 将对应标签的 MAE 值 存入评分项中。\n",
    "\n",
    "    submit[pred_label] = test_pred # 将测试集预测数据存入最终提交数据中。\n",
    "     \n",
    "submit.to_csv('submit_result.csv', index=False) # 保存最后的预测结果到 submit_result.csv"
   ]
  },
  {
   "cell_type": "markdown",
   "metadata": {},
   "source": [
    "> 运行效果展示:(可自行利用matplotlib绘制损失图像)\n",
    "\n",
    "![](https://ai-studio-static-online.cdn.bcebos.com/acbf1558bed74aaeb2e5011c574a49079ba4afd9edbf424ebd2d2a69ecf6824d)\n"
   ]
  },
  {
   "cell_type": "code",
   "execution_count": 8,
   "metadata": {
    "execution": {
     "iopub.execute_input": "2023-07-19T11:07:11.916633Z",
     "iopub.status.busy": "2023-07-19T11:07:11.916302Z",
     "iopub.status.idle": "2023-07-19T11:07:12.370333Z",
     "shell.execute_reply": "2023-07-19T11:07:12.369819Z",
     "shell.execute_reply.started": "2023-07-19T11:07:11.916616Z"
    },
    "scrolled": true,
    "tags": []
   },
   "outputs": [
    {
     "name": "stdout",
     "output_type": "stream",
     "text": [
      "{'上部温度1': 2.905630023070507, '上部温度2': 2.8415226931217616, '上部温度3': 2.1361846091427057, '上部温度4': 1.4496459962586636, '上部温度5': 1.68903085392773, '上部温度6': 1.6314435398334883, '上部温度7': 1.0781948183757775, '上部温度8': 0.16096641603080394, '上部温度9': 0.09897319830448861, '上部温度10': 0.08914833881720488, '上部温度11': 0.10187757164033058, '上部温度12': 0.12292278944665096, '上部温度13': 0.12126945833448521, '上部温度14': 0.1766633700681394, '上部温度15': 0.29104872967795686, '上部温度16': 0.3437734306652143, '上部温度17': 0.85861714159532, '下部温度1': 2.2606565123722797, '下部温度2': 1.3787310999676785, '下部温度3': 0.7124649308763438, '下部温度4': 0.4281160357598973, '下部温度5': 0.7243745420095603, '下部温度6': 0.5348889842325286, '下部温度7': 0.3069986464042002, '下部温度8': 0.1089651260075026, '下部温度9': 16.759706644902828, '下部温度10': 0.09673220188836894, '下部温度11': 0.14445022656469653, '下部温度12': 0.16426707048885453, '下部温度13': 0.14258925662085908, '下部温度14': 0.15326240331042193, '下部温度15': 0.25333321582243373, '下部温度16': 0.3182807359451992, '下部温度17': 0.4015241\r\n"
     ]
    }
   ],
   "source": [
    "# 保存文件并查看结果\n",
    "submit.to_csv('submit_result.csv', index=False) # 保存最后的预测结果到 submit_result.csv。\n",
    "print(MAE_scores) # 查看各项的 MAE 值。"
   ]
  },
  {
   "cell_type": "markdown",
   "metadata": {},
   "source": [
    "当这个Baseline跑完以后大概能取得的成绩是:\n",
    "\n",
    "![](https://ai-studio-static-online.cdn.bcebos.com/f464f7c95a764944b106cdaa6e856bead4baeda9539f4aa0a1012e10afd6af28)"
   ]
  },
  {
   "cell_type": "markdown",
   "metadata": {},
   "source": [
    "# 5. 进阶实战\n",
    "\n",
    "在实践尝试阶段，我们使用lightgbm完成了基本的模型训练，已经最终结果输出。在进阶实践部分，将在原有Baseline基础上做进阶代码，进阶版本代码。具体地，我们可以尝试提取更多特征改善最终结果，这也是数据挖掘比赛中的主要优化方向，很多情况下决定着最终的成绩。\n",
    "\n",
    "这里主要构建了交叉特征、历史平移特征、差分特征、和窗口统计特征；每种特征都是有理可据的，具体说明如下：\n",
    "\n",
    "**（1）交叉特征**：主要提取流量、上部温度设定、下部温度设定之间的关系；\n",
    "\n",
    "**（2）历史平移特征**：通过历史平移获取上个阶段的信息；\n",
    "\n",
    "**（3）差分特征**：可以帮助获取相邻阶段的增长差异，描述数据的涨减变化情况。在此基础上还可以构建相邻数据比值变化、二阶差分等；\n",
    "\n",
    "**（4）窗口统计特征**：窗口统计可以构建不同的窗口大小，然后基于窗口范围进统计均值、最大值、最小值、中位数、方差的信息，可以反映最近阶段数据的变化情况。"
   ]
  },
  {
   "cell_type": "markdown",
   "metadata": {},
   "source": [
    "## 5.1 新特征展示"
   ]
  },
  {
   "cell_type": "code",
   "execution_count": null,
   "metadata": {
    "execution": {
     "iopub.status.busy": "2023-07-08T10:44:54.764970Z",
     "iopub.status.idle": "2023-07-08T10:44:54.765469Z",
     "shell.execute_reply": "2023-07-08T10:44:54.765234Z",
     "shell.execute_reply.started": "2023-07-08T10:44:54.765212Z"
    },
    "scrolled": true,
    "tags": []
   },
   "outputs": [],
   "source": [
    "# 新加入特征代码展示(不必运行)\n",
    "\n",
    "# 交叉特征\n",
    "for i in range(1,18):\n",
    "    train[f'流量{i}/上部温度设定{i}'] = train[f'流量{i}'] / train[f'上部温度设定{i}']\n",
    "    test[f'流量{i}/上部温度设定{i}'] = test[f'流量{i}'] / test[f'上部温度设定{i}']\n",
    "    \n",
    "    train[f'流量{i}/下部温度设定{i}'] = train[f'流量{i}'] / train[f'下部温度设定{i}']\n",
    "    test[f'流量{i}/下部温度设定{i}'] = test[f'流量{i}'] / test[f'下部温度设定{i}']\n",
    "    \n",
    "    train[f'上部温度设定{i}/下部温度设定{i}'] = train[f'上部温度设定{i}'] / train[f'下部温度设定{i}']\n",
    "    test[f'上部温度设定{i}/下部温度设定{i}'] = test[f'上部温度设定{i}'] / test[f'下部温度设定{i}']\n",
    "    \n",
    "# 历史平移\n",
    "for i in range(1,18):\n",
    "    train[f'last1_流量{i}'] = train[f'流量{i}'].shift(1)\n",
    "    train[f'last1_上部温度设定{i}'] = train[f'上部温度设定{i}'].shift(1)\n",
    "    train[f'last1_下部温度设定{i}'] = train[f'下部温度设定{i}'].shift(1)\n",
    "    \n",
    "    test[f'last1_流量{i}'] = test[f'流量{i}'].shift(1)\n",
    "    test[f'last1_上部温度设定{i}'] = test[f'上部温度设定{i}'].shift(1)\n",
    "    test[f'last1_下部温度设定{i}'] = test[f'下部温度设定{i}'].shift(1)\n",
    "\n",
    "# 差分特征\n",
    "for i in range(1,18):\n",
    "    train[f'last1_diff_流量{i}'] = train[f'流量{i}'].diff(1)\n",
    "    train[f'last1_diff_上部温度设定{i}'] = train[f'上部温度设定{i}'].diff(1)\n",
    "    train[f'last1_diff_下部温度设定{i}'] = train[f'下部温度设定{i}'].diff(1)\n",
    "    \n",
    "    test[f'last1_diff_流量{i}'] = test[f'流量{i}'].diff(1)\n",
    "    test[f'last1_diff_上部温度设定{i}'] = test[f'上部温度设定{i}'].diff(1)\n",
    "    test[f'last1_diff_下部温度设定{i}'] = test[f'下部温度设定{i}'].diff(1)\n",
    "    \n",
    "# 窗口统计\n",
    "for i in range(1,18):\n",
    "    train[f'win3_mean_流量{i}'] = (train[f'流量{i}'].shift(1) + train[f'流量{i}'].shift(2) + train[f'流量{i}'].shift(3)) / 3\n",
    "    train[f'win3_mean_上部温度设定{i}'] = (train[f'上部温度设定{i}'].shift(1) + train[f'上部温度设定{i}'].shift(2) + train[f'上部温度设定{i}'].shift(3)) / 3\n",
    "    train[f'win3_mean_下部温度设定{i}'] = (train[f'下部温度设定{i}'].shift(1) + train[f'下部温度设定{i}'].shift(2) + train[f'下部温度设定{i}'].shift(3)) / 3\n",
    "    \n",
    "    test[f'win3_mean_流量{i}'] = (test[f'流量{i}'].shift(1) + test[f'流量{i}'].shift(2) + test[f'流量{i}'].shift(3)) / 3\n",
    "    test[f'win3_mean_上部温度设定{i}'] = (test[f'上部温度设定{i}'].shift(1) + test[f'上部温度设定{i}'].shift(2) + test[f'上部温度设定{i}'].shift(3)) / 3\n",
    "    test[f'win3_mean_下部温度设定{i}'] = (test[f'下部温度设定{i}'].shift(1) + test[f'下部温度设定{i}'].shift(2) + test[f'下部温度设定{i}'].shift(3)) / 3"
   ]
  },
  {
   "cell_type": "markdown",
   "metadata": {},
   "source": [
    "## 5.2 优化后完整代码展示"
   ]
  },
  {
   "cell_type": "code",
   "execution_count": 3,
   "metadata": {
    "execution": {
     "iopub.execute_input": "2023-07-23T12:41:19.341539Z",
     "iopub.status.busy": "2023-07-23T12:41:19.341163Z",
     "iopub.status.idle": "2023-07-23T12:42:49.816418Z",
     "shell.execute_reply": "2023-07-23T12:42:49.815484Z",
     "shell.execute_reply.started": "2023-07-23T12:41:19.341510Z"
    },
    "scrolled": true,
    "tags": []
   },
   "outputs": [
    {
     "name": "stderr",
     "output_type": "stream",
     "text": [
      "100%|██████████| 34/34 [01:29<00:00,  2.64s/it]\r\n"
     ]
    },
    {
     "name": "stdout",
     "output_type": "stream",
     "text": [
      "{'上部温度1': 5.81640323792841, '上部温度2': 5.379476883082123, '上部温度3': 3.808399748500084, '上部温度4': 2.272266644361848, '上部温度5': 3.0196864642109738, '上部温度6': 2.4409575993235064, '上部温度7': 1.6268359508933687, '上部温度8': 0.13403363266770907, '上部温度9': 0.06506776580997325, '上部温度10': 0.06310893354376279, '上部温度11': 0.08672301559038695, '上部温度12': 0.11052733475383708, '上部温度13': 0.09850835812880102, '上部温度14': 0.12484363830475316, '上部温度15': 0.22184738371862178, '上部温度16': 0.33413596797800255, '上部温度17': 0.9668613851306717, '下部温度1': 3.5121356114040965, '下部温度2': 1.6087510285785738, '下部温度3': 0.707367622193821, '下部温度4': 0.3414842323560205, '下部温度5': 1.1523313711004197, '下部温度6': 0.7187381388126082, '下部温度7': 0.3106835623698695, '下部温度8': 0.06263489919093326, '下部温度9': 4.770147707473743, '下部温度10': 0.060885257246776, '下部温度11': 0.11211540002259171, '下部温度12': 0.11094016133485726, '下部温度13': 0.09245618344272785, '下部温度14': 0.09900800862479528, '下部温度15': 0.16961688575401582, '下部温度16': 0.25893549356853496, '下部温度17': 0.2874090\r\n"
     ]
    }
   ],
   "source": [
    "# 加入新特征后的完整代码如下：（对每行代码配置解析）\n",
    "\n",
    "# 导入所需的库\n",
    "import pandas as pd # 用于处理数据的工具\n",
    "import lightgbm as lgb # 机器学习模型 LightGBM\n",
    "from sklearn.metrics import mean_absolute_error # 评分 MAE 的计算函数\n",
    "from sklearn.model_selection import train_test_split # 拆分训练集与验证集工具\n",
    "from tqdm import tqdm # 显示循环的进度条工具\n",
    "\n",
    "# 数据准备\n",
    "train_dataset = pd.read_csv(\"./data/train.csv\") # 原始训练数据。\n",
    "test_dataset = pd.read_csv(\"./data/test.csv\") # 原始测试数据（用于提交）。\n",
    "\n",
    "submit = pd.DataFrame() # 定义提交的最终数据。\n",
    "submit[\"序号\"] = test_dataset[\"序号\"] # 对齐测试数据的序号。\n",
    "\n",
    "MAE_scores = dict() # 定义评分项。\n",
    "\n",
    "# 模型训练\n",
    "pred_labels = list(train_dataset.columns[-34:]) # 需要预测的标签。\n",
    "train_set, valid_set = train_test_split(train_dataset, test_size=0.2) # 拆分数据集。\n",
    "\n",
    "# 设定 LightGBM 训练参，查阅参数意义：https://lightgbm.readthedocs.io/en/latest/Parameters.html\n",
    "lgb_params = {\n",
    "        'boosting_type': 'gbdt',\n",
    "        'objective': 'regression',\n",
    "        'metric': 'mae',\n",
    "        'min_child_weight': 5,\n",
    "        'num_leaves': 2 ** 5,\n",
    "        'lambda_l2': 10,\n",
    "        'feature_fraction': 0.8,\n",
    "        'bagging_fraction': 0.8,\n",
    "        'bagging_freq': 4,\n",
    "        'learning_rate': 0.05,\n",
    "        'seed': 2023,\n",
    "        'nthread' : 16,\n",
    "        'verbose' : -1,\n",
    "    }\n",
    "\n",
    "no_info = lgb.callback.log_evaluation(period=-1) # 禁用训练日志输出。\n",
    "\n",
    "\n",
    "def data_feature(data: pd.DataFrame, pred_labels: list=None) -> pd.DataFrame:\n",
    "    \n",
    "    data = data.copy() # 复制数据，避免后续影响原始数据。\n",
    "    data = data.drop(columns=[\"序号\"]) # 去掉”序号“特征。\n",
    "    \n",
    "    data[\"时间\"] = pd.to_datetime(data[\"时间\"]) # 将”时间“特征的文本内容转换为 Pandas 可处理的格式。\n",
    "    data[\"month\"] = data[\"时间\"].dt.month # 添加新特征“month”，代表”当前月份“。\n",
    "    data[\"day\"] = data[\"时间\"].dt.day # 添加新特征“day”，代表”当前日期“。\n",
    "    data[\"hour\"] = data[\"时间\"].dt.hour # 添加新特征“hour”，代表”当前小时“。\n",
    "    data[\"minute\"] = data[\"时间\"].dt.minute # 添加新特征“minute”，代表”当前分钟“。\n",
    "    data[\"weekofyear\"] = data[\"时间\"].dt.isocalendar().week.astype(int) # 添加新特征“weekofyear”，代表”当年第几周“，并转换成 int，否则 LightGBM 无法处理。\n",
    "    data[\"dayofyear\"] = data[\"时间\"].dt.dayofyear # 添加新特征“dayofyear”，代表”当年第几日“。\n",
    "    data[\"dayofweek\"] = data[\"时间\"].dt.dayofweek # 添加新特征“dayofweek”，代表”当周第几日“。\n",
    "    data[\"is_weekend\"] = data[\"时间\"].dt.dayofweek // 6 # 添加新特征“is_weekend”，代表”是否是周末“，1 代表是周末，0 代表不是周末。\n",
    "\n",
    "    data = data.drop(columns=[\"时间\"]) # LightGBM 无法处理这个特征，它已体现在其他特征中，故丢弃。\n",
    "\n",
    "    # 交叉特征\n",
    "    for i in range(1,18):\n",
    "        data[f'流量{i}/上部温度设定{i}'] = data[f'流量{i}'] / data[f'上部温度设定{i}']   \n",
    "        data[f'流量{i}/下部温度设定{i}'] = data[f'流量{i}'] / data[f'下部温度设定{i}']\n",
    "        data[f'上部温度设定{i}/下部温度设定{i}'] = data[f'上部温度设定{i}'] / data[f'下部温度设定{i}']\n",
    "        \n",
    "    # 历史平移\n",
    "        data[f'last1_流量{i}'] = data[f'流量{i}'].shift(1)\n",
    "        data[f'last1_上部温度设定{i}'] = data[f'上部温度设定{i}'].shift(1)\n",
    "        data[f'last1_下部温度设定{i}'] = data[f'下部温度设定{i}'].shift(1)\n",
    "\n",
    "    # 差分特征\n",
    "        data[f'last1_diff_流量{i}'] = data[f'流量{i}'].diff(1)\n",
    "        data[f'last1_diff_上部温度设定{i}'] = data[f'上部温度设定{i}'].diff(1)\n",
    "        data[f'last1_diff_下部温度设定{i}'] = data[f'下部温度设定{i}'].diff(1)\n",
    "        \n",
    "    # 窗口统计\n",
    "    for i in range(1,18):\n",
    "        data[f'win3_mean_流量{i}'] = (data[f'流量{i}'].shift(1) + data[f'流量{i}'].shift(2) + data[f'流量{i}'].shift(3)) / 3\n",
    "        data[f'win3_mean_上部温度设定{i}'] = (data[f'上部温度设定{i}'].shift(1) + data[f'上部温度设定{i}'].shift(2) + data[f'上部温度设定{i}'].shift(3)) / 3\n",
    "        data[f'win3_mean_下部温度设定{i}'] = (data[f'下部温度设定{i}'].shift(1) + data[f'下部温度设定{i}'].shift(2) + data[f'下部温度设定{i}'].shift(3)) / 3\n",
    "\n",
    "    if pred_labels: # 如果提供了 pred_labels 参数，则执行该代码块。\n",
    "        data = data.drop(columns=[*pred_labels]) # 去掉所有待预测的标签。\n",
    "    \n",
    "    return data # 返回最后处理的数据。\n",
    "\n",
    "test_features = data_feature(test_dataset) # 处理测试集的时间特征，无需 pred_labels。\n",
    "\n",
    "\n",
    "# 从所有待预测特征中依次取出标签进行训练与预测。\n",
    "for pred_label in tqdm(pred_labels):\n",
    "    train_features = data_feature(train_set, pred_labels=pred_labels) # 处理训练集的时间特征。\n",
    "    train_labels = train_set[pred_label] # 训练集的标签数据。\n",
    "    train_data = lgb.Dataset(train_features, label=train_labels) # 将训练集转换为 LightGBM 可处理的类型。\n",
    "\n",
    "    valid_features = data_feature(valid_set, pred_labels=pred_labels) # 处理验证集的时间特征。\n",
    "    valid_labels = valid_set[pred_label] # 验证集的标签数据。\n",
    "    valid_data = lgb.Dataset(valid_features, label=valid_labels) # 将验证集转换为 LightGBM 可处理的类型。\n",
    "\n",
    "    # 训练模型，参数依次为：导入模型设定参数、导入训练集、设定模型迭代次数（200）、导入验证集、禁止输出日志\n",
    "    model = lgb.train(lgb_params, train_data, 200, valid_sets=valid_data, callbacks=[no_info])\n",
    "\n",
    "    valid_pred = model.predict(valid_features, num_iteration=model.best_iteration) # 选择效果最好的模型进行验证集预测。\n",
    "    test_pred = model.predict(test_features, num_iteration=model.best_iteration) # 选择效果最好的模型进行测试集预测。\n",
    "    MAE_score = mean_absolute_error(valid_pred, valid_labels) # 计算验证集预测数据与真实数据的 MAE。\n",
    "    MAE_scores[pred_label] = MAE_score # 将对应标签的 MAE 值 存入评分项中。\n",
    "\n",
    "    submit[pred_label] = test_pred # 将测试集预测数据存入最终提交数据中。\n",
    "     \n",
    "submit.to_csv('submit_result_new.csv', index=False) # 保存最后的预测结果到 submit_result_new.csv。\n",
    "print(MAE_scores) # 查看各项的 MAE 值。"
   ]
  },
  {
   "cell_type": "markdown",
   "metadata": {},
   "source": [
    "当这个优化措施做了能够达到的成绩大概是:\n",
    "\n",
    "![](https://ai-studio-static-online.cdn.bcebos.com/fae80c2eea3b406ab284983a47bf8a87e6153b8935f24ceaadcd41d5f4eb7f9d)\n",
    "\n",
    "可以看出仍然是远远不够的，因此接下来给予一些上分建议"
   ]
  },
  {
   "cell_type": "markdown",
   "metadata": {},
   "source": [
    "# 6. 结语"
   ]
  },
  {
   "cell_type": "markdown",
   "metadata": {},
   "source": [
    "## 6.1 优化建议\n",
    "\n",
    "1、过拟合现象\n",
    "\n",
    "在代码运行的时候可以将`callbacks=[no_info]`去除，以查看模型运行的日志，运行结束后也可以利用代码`print(MAE_scores)`来打印出最终的损失，观察不难看出，模型会在一定时间后进入过拟合，因此可以尝试以一些措施来缓解这种现象。\n",
    "\n",
    "- 利用lightgbm自带的early_stopping_rounds参数。\n",
    "- 采用多折验证的方式扩大数据量，使得模型泛化能力增强。\n",
    "\n",
    "\n",
    "2、 参数设定\n",
    "\n",
    "此次基线没有做精确的调参处理，因此可以调参的范围还是挺大的，常用的搜索参数策略有两种:\n",
    "\n",
    "- 网格搜索（Grid Search）：这是一种传统的参数调整方法，它会测试指定参数的所有可能组合来找出最佳参数。但是，当参数空间较大时，这种方法可能会消耗大量计算资源和时间。\n",
    "\n",
    "- 随机搜索（Random Search）：与网格搜索相比，随机搜索不会测试所有的参数组合，而是在参数空间中随机选择一定数量的参数组合进行测试。尽管随机搜索可能无法找到最优的参数组合，但在计算资源有限的情况下，它是一个有效的选择。\n",
    "\n",
    "3、 模型设定\n",
    "\n",
    "我们此次基线采用的是LightGBM，我们也可以试试XGBoost, Adaboost， Catboost等等传统的模型，并且也可以使用深度学习的方法构建循环神经网络来处理此次任务，因为本质是一个时序任务，在采用机器学习的同时也可以保存模型的参数配置，尝试进行模型集成的训练。\n",
    "\n",
    "4、 特征\n",
    "\n",
    "在特征选择方面，目前给出的特征仅仅是单独对时间处理，与对流量\\上\\下\\部温度设定进行处理，并未结合时间与其他特征的关系，可以尝试自己构建合理的新特征。\n",
    "\n",
    "5、 后处理\n",
    "\n",
    "对已经给出的csv文件仍然可以分析其趋势，抓住评估的关键来调整文件内容使得结果更加精确。\n",
    "\n",
    "6、 迭代步数\n",
    "目前设置的迭代步数为200轮，其实这对于某些预测数据来说是不够的，可以尝试自己增大迭代步数"
   ]
  },
  {
   "cell_type": "markdown",
   "metadata": {},
   "source": [
    "## 6.2 结语\n",
    "\n",
    "总的来说，此次任务数据量不是很大，处理过程也是传统的机器学习赛题，适合小白入门学习与实践（适合俺）;\n",
    "\n",
    "感谢Datawhale的敏姐，骆哥，鱼哥的无私分享以及aistudio平台的算力支持！！！\n",
    "\n",
    "Datawhale是一个专注于AI与数据科学领域的开源组织，汇集了众多领域院校和知名企业的优秀学习者，聚合了一群有开源精神和探索精神的团队成员。Datawhale以\"forthelearner,和学习者一起成长\"为使命，鼓励真实地展现自我、开放包容、互信互助、敢于尝试和勇于担当。同时Datawhale 用开源的理念去探索开源内容、开源学习和开源方案，赋能人才培养，助力人才成长，建立起人与人，人与知识，人与企业和人与未来的联结。\n",
    "\n",
    "欢迎各位同学一起来打榜挑战！！！"
   ]
  },
  {
   "cell_type": "markdown",
   "metadata": {},
   "source": [
    "参考文献:\n",
    "\n",
    "- 参考来源Datawhale社区:https://datawhaler.feishu.cn/docx/DGmZd217PoYhgexr2WPc6rObnCe"
   ]
  }
 ],
 "metadata": {
  "kernelspec": {
   "display_name": "Python 3 (ipykernel)",
   "language": "python",
   "name": "python3"
  },
  "language_info": {
   "codemirror_mode": {
    "name": "ipython",
    "version": 3
   },
   "file_extension": ".py",
   "mimetype": "text/x-python",
   "name": "python",
   "nbconvert_exporter": "python",
   "pygments_lexer": "ipython3",
   "version": "3.10.12"
  },
  "toc": {
   "base_numbering": 1,
   "nav_menu": {},
   "number_sections": true,
   "sideBar": true,
   "skip_h1_title": false,
   "title_cell": "Table of Contents",
   "title_sidebar": "Contents",
   "toc_cell": false,
   "toc_position": {},
   "toc_section_display": true,
   "toc_window_display": false
  },
  "toc-autonumbering": false,
  "toc-showtags": false,
  "varInspector": {
   "cols": {
    "lenName": 16,
    "lenType": 16,
    "lenVar": 40
   },
   "kernels_config": {
    "python": {
     "delete_cmd_postfix": "",
     "delete_cmd_prefix": "del ",
     "library": "var_list.py",
     "varRefreshCmd": "print(var_dic_list())"
    },
    "r": {
     "delete_cmd_postfix": ") ",
     "delete_cmd_prefix": "rm(",
     "library": "var_list.r",
     "varRefreshCmd": "cat(var_dic_list()) "
    }
   },
   "types_to_exclude": [
    "module",
    "function",
    "builtin_function_or_method",
    "instance",
    "_Feature"
   ],
   "window_display": false
  }
 },
 "nbformat": 4,
 "nbformat_minor": 4
}
